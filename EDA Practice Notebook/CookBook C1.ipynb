{
 "cells": [
  {
   "cell_type": "markdown",
   "id": "8387b398-433e-45f8-abac-f13559c85a44",
   "metadata": {},
   "source": [
    "# Libraries:\n",
    "- Here I Will use **numpy** (refer as np), **pandas** (refere as pd).\n",
    "- Where Numpy is use to create array, find mathmatical solutions like mean,median etc\n",
    "- While Pandas will use to read, manipulate data and also to perform mathmatical solutions like mean, meadian etc"
   ]
  },
  {
   "cell_type": "code",
   "execution_count": 7,
   "id": "35db36fd-80da-4f8f-887b-0e5450a4f308",
   "metadata": {},
   "outputs": [],
   "source": [
    "import numpy as np\n",
    "import pandas as pd"
   ]
  },
  {
   "cell_type": "markdown",
   "id": "f2e2182a-5f97-4484-a3c6-076508f767b7",
   "metadata": {},
   "source": [
    "### Data Read:\n",
    "    Here I use pandas to read the csv file and store it into variable name data "
   ]
  },
  {
   "cell_type": "code",
   "execution_count": 8,
   "id": "e35e65a5-05a0-4071-a7b9-61958a1eecbd",
   "metadata": {},
   "outputs": [],
   "source": [
    "data = pd.read_csv('dataset/covid-data.csv')"
   ]
  },
  {
   "cell_type": "markdown",
   "id": "797d1c95-dcfa-4a5d-968c-8c265f6e6d20",
   "metadata": {},
   "source": [
    "### Print Initial rows:\n",
    "    .head() is a pandas function and is use to print initial rows of the data"
   ]
  },
  {
   "cell_type": "code",
   "execution_count": 9,
   "id": "8b81a692-4394-4aae-aa86-f736331041f5",
   "metadata": {},
   "outputs": [
    {
     "data": {
      "text/html": [
       "<div>\n",
       "<style scoped>\n",
       "    .dataframe tbody tr th:only-of-type {\n",
       "        vertical-align: middle;\n",
       "    }\n",
       "\n",
       "    .dataframe tbody tr th {\n",
       "        vertical-align: top;\n",
       "    }\n",
       "\n",
       "    .dataframe thead th {\n",
       "        text-align: right;\n",
       "    }\n",
       "</style>\n",
       "<table border=\"1\" class=\"dataframe\">\n",
       "  <thead>\n",
       "    <tr style=\"text-align: right;\">\n",
       "      <th></th>\n",
       "      <th>iso_code</th>\n",
       "      <th>continent</th>\n",
       "      <th>location</th>\n",
       "      <th>date</th>\n",
       "      <th>total_cases</th>\n",
       "      <th>new_cases</th>\n",
       "      <th>new_cases_smoothed</th>\n",
       "      <th>total_deaths</th>\n",
       "      <th>new_deaths</th>\n",
       "      <th>new_deaths_smoothed</th>\n",
       "      <th>...</th>\n",
       "      <th>female_smokers</th>\n",
       "      <th>male_smokers</th>\n",
       "      <th>handwashing_facilities</th>\n",
       "      <th>hospital_beds_per_thousand</th>\n",
       "      <th>life_expectancy</th>\n",
       "      <th>human_development_index</th>\n",
       "      <th>excess_mortality_cumulative_absolute</th>\n",
       "      <th>excess_mortality_cumulative</th>\n",
       "      <th>excess_mortality</th>\n",
       "      <th>excess_mortality_cumulative_per_million</th>\n",
       "    </tr>\n",
       "  </thead>\n",
       "  <tbody>\n",
       "    <tr>\n",
       "      <th>0</th>\n",
       "      <td>AFG</td>\n",
       "      <td>Asia</td>\n",
       "      <td>Afghanistan</td>\n",
       "      <td>24/02/2020</td>\n",
       "      <td>5</td>\n",
       "      <td>5</td>\n",
       "      <td>NaN</td>\n",
       "      <td>NaN</td>\n",
       "      <td>NaN</td>\n",
       "      <td>NaN</td>\n",
       "      <td>...</td>\n",
       "      <td>NaN</td>\n",
       "      <td>NaN</td>\n",
       "      <td>37.746</td>\n",
       "      <td>0.5</td>\n",
       "      <td>64.83</td>\n",
       "      <td>0.511</td>\n",
       "      <td>NaN</td>\n",
       "      <td>NaN</td>\n",
       "      <td>NaN</td>\n",
       "      <td>NaN</td>\n",
       "    </tr>\n",
       "    <tr>\n",
       "      <th>1</th>\n",
       "      <td>AFG</td>\n",
       "      <td>Asia</td>\n",
       "      <td>Afghanistan</td>\n",
       "      <td>25/02/2020</td>\n",
       "      <td>5</td>\n",
       "      <td>0</td>\n",
       "      <td>NaN</td>\n",
       "      <td>NaN</td>\n",
       "      <td>NaN</td>\n",
       "      <td>NaN</td>\n",
       "      <td>...</td>\n",
       "      <td>NaN</td>\n",
       "      <td>NaN</td>\n",
       "      <td>37.746</td>\n",
       "      <td>0.5</td>\n",
       "      <td>64.83</td>\n",
       "      <td>0.511</td>\n",
       "      <td>NaN</td>\n",
       "      <td>NaN</td>\n",
       "      <td>NaN</td>\n",
       "      <td>NaN</td>\n",
       "    </tr>\n",
       "    <tr>\n",
       "      <th>2</th>\n",
       "      <td>AFG</td>\n",
       "      <td>Asia</td>\n",
       "      <td>Afghanistan</td>\n",
       "      <td>26/02/2020</td>\n",
       "      <td>5</td>\n",
       "      <td>0</td>\n",
       "      <td>NaN</td>\n",
       "      <td>NaN</td>\n",
       "      <td>NaN</td>\n",
       "      <td>NaN</td>\n",
       "      <td>...</td>\n",
       "      <td>NaN</td>\n",
       "      <td>NaN</td>\n",
       "      <td>37.746</td>\n",
       "      <td>0.5</td>\n",
       "      <td>64.83</td>\n",
       "      <td>0.511</td>\n",
       "      <td>NaN</td>\n",
       "      <td>NaN</td>\n",
       "      <td>NaN</td>\n",
       "      <td>NaN</td>\n",
       "    </tr>\n",
       "    <tr>\n",
       "      <th>3</th>\n",
       "      <td>AFG</td>\n",
       "      <td>Asia</td>\n",
       "      <td>Afghanistan</td>\n",
       "      <td>27/02/2020</td>\n",
       "      <td>5</td>\n",
       "      <td>0</td>\n",
       "      <td>NaN</td>\n",
       "      <td>NaN</td>\n",
       "      <td>NaN</td>\n",
       "      <td>NaN</td>\n",
       "      <td>...</td>\n",
       "      <td>NaN</td>\n",
       "      <td>NaN</td>\n",
       "      <td>37.746</td>\n",
       "      <td>0.5</td>\n",
       "      <td>64.83</td>\n",
       "      <td>0.511</td>\n",
       "      <td>NaN</td>\n",
       "      <td>NaN</td>\n",
       "      <td>NaN</td>\n",
       "      <td>NaN</td>\n",
       "    </tr>\n",
       "    <tr>\n",
       "      <th>4</th>\n",
       "      <td>AFG</td>\n",
       "      <td>Asia</td>\n",
       "      <td>Afghanistan</td>\n",
       "      <td>28/02/2020</td>\n",
       "      <td>5</td>\n",
       "      <td>0</td>\n",
       "      <td>NaN</td>\n",
       "      <td>NaN</td>\n",
       "      <td>NaN</td>\n",
       "      <td>NaN</td>\n",
       "      <td>...</td>\n",
       "      <td>NaN</td>\n",
       "      <td>NaN</td>\n",
       "      <td>37.746</td>\n",
       "      <td>0.5</td>\n",
       "      <td>64.83</td>\n",
       "      <td>0.511</td>\n",
       "      <td>NaN</td>\n",
       "      <td>NaN</td>\n",
       "      <td>NaN</td>\n",
       "      <td>NaN</td>\n",
       "    </tr>\n",
       "  </tbody>\n",
       "</table>\n",
       "<p>5 rows × 67 columns</p>\n",
       "</div>"
      ],
      "text/plain": [
       "  iso_code continent     location        date  total_cases  new_cases  \\\n",
       "0      AFG      Asia  Afghanistan  24/02/2020            5          5   \n",
       "1      AFG      Asia  Afghanistan  25/02/2020            5          0   \n",
       "2      AFG      Asia  Afghanistan  26/02/2020            5          0   \n",
       "3      AFG      Asia  Afghanistan  27/02/2020            5          0   \n",
       "4      AFG      Asia  Afghanistan  28/02/2020            5          0   \n",
       "\n",
       "   new_cases_smoothed  total_deaths  new_deaths  new_deaths_smoothed  ...  \\\n",
       "0                 NaN           NaN         NaN                  NaN  ...   \n",
       "1                 NaN           NaN         NaN                  NaN  ...   \n",
       "2                 NaN           NaN         NaN                  NaN  ...   \n",
       "3                 NaN           NaN         NaN                  NaN  ...   \n",
       "4                 NaN           NaN         NaN                  NaN  ...   \n",
       "\n",
       "   female_smokers  male_smokers  handwashing_facilities  \\\n",
       "0             NaN           NaN                  37.746   \n",
       "1             NaN           NaN                  37.746   \n",
       "2             NaN           NaN                  37.746   \n",
       "3             NaN           NaN                  37.746   \n",
       "4             NaN           NaN                  37.746   \n",
       "\n",
       "   hospital_beds_per_thousand  life_expectancy  human_development_index  \\\n",
       "0                         0.5            64.83                    0.511   \n",
       "1                         0.5            64.83                    0.511   \n",
       "2                         0.5            64.83                    0.511   \n",
       "3                         0.5            64.83                    0.511   \n",
       "4                         0.5            64.83                    0.511   \n",
       "\n",
       "   excess_mortality_cumulative_absolute  excess_mortality_cumulative  \\\n",
       "0                                   NaN                          NaN   \n",
       "1                                   NaN                          NaN   \n",
       "2                                   NaN                          NaN   \n",
       "3                                   NaN                          NaN   \n",
       "4                                   NaN                          NaN   \n",
       "\n",
       "   excess_mortality  excess_mortality_cumulative_per_million  \n",
       "0               NaN                                      NaN  \n",
       "1               NaN                                      NaN  \n",
       "2               NaN                                      NaN  \n",
       "3               NaN                                      NaN  \n",
       "4               NaN                                      NaN  \n",
       "\n",
       "[5 rows x 67 columns]"
      ]
     },
     "execution_count": 9,
     "metadata": {},
     "output_type": "execute_result"
    }
   ],
   "source": [
    "data.head()"
   ]
  },
  {
   "cell_type": "markdown",
   "id": "2e282e4d-6b7f-4ee4-81c3-3450c2b56db7",
   "metadata": {},
   "source": [
    "### Filtring the required Columns\n",
    "    In this line of code i filtered out unnecessary Columns and leave only those which are required like \"iso_code,Continent\" etc"
   ]
  },
  {
   "cell_type": "code",
   "execution_count": 10,
   "id": "b7eef408-e594-4688-af48-d1f3501286b4",
   "metadata": {},
   "outputs": [],
   "source": [
    "data = data[['iso_code','continent','location','date','total_cases','new_cases']]"
   ]
  },
  {
   "cell_type": "markdown",
   "id": "233f955a-ed5b-46b0-be45-eb3c0a8a2210",
   "metadata": {},
   "source": [
    "### Check the Filtred Columns\n",
    "    I use .head() function to check the result of filter code."
   ]
  },
  {
   "cell_type": "code",
   "execution_count": 11,
   "id": "e6d08d05-931e-4e3a-89cc-2a4c2e62eca4",
   "metadata": {},
   "outputs": [
    {
     "data": {
      "text/html": [
       "<div>\n",
       "<style scoped>\n",
       "    .dataframe tbody tr th:only-of-type {\n",
       "        vertical-align: middle;\n",
       "    }\n",
       "\n",
       "    .dataframe tbody tr th {\n",
       "        vertical-align: top;\n",
       "    }\n",
       "\n",
       "    .dataframe thead th {\n",
       "        text-align: right;\n",
       "    }\n",
       "</style>\n",
       "<table border=\"1\" class=\"dataframe\">\n",
       "  <thead>\n",
       "    <tr style=\"text-align: right;\">\n",
       "      <th></th>\n",
       "      <th>iso_code</th>\n",
       "      <th>continent</th>\n",
       "      <th>location</th>\n",
       "      <th>date</th>\n",
       "      <th>total_cases</th>\n",
       "      <th>new_cases</th>\n",
       "    </tr>\n",
       "  </thead>\n",
       "  <tbody>\n",
       "    <tr>\n",
       "      <th>0</th>\n",
       "      <td>AFG</td>\n",
       "      <td>Asia</td>\n",
       "      <td>Afghanistan</td>\n",
       "      <td>24/02/2020</td>\n",
       "      <td>5</td>\n",
       "      <td>5</td>\n",
       "    </tr>\n",
       "    <tr>\n",
       "      <th>1</th>\n",
       "      <td>AFG</td>\n",
       "      <td>Asia</td>\n",
       "      <td>Afghanistan</td>\n",
       "      <td>25/02/2020</td>\n",
       "      <td>5</td>\n",
       "      <td>0</td>\n",
       "    </tr>\n",
       "    <tr>\n",
       "      <th>2</th>\n",
       "      <td>AFG</td>\n",
       "      <td>Asia</td>\n",
       "      <td>Afghanistan</td>\n",
       "      <td>26/02/2020</td>\n",
       "      <td>5</td>\n",
       "      <td>0</td>\n",
       "    </tr>\n",
       "    <tr>\n",
       "      <th>3</th>\n",
       "      <td>AFG</td>\n",
       "      <td>Asia</td>\n",
       "      <td>Afghanistan</td>\n",
       "      <td>27/02/2020</td>\n",
       "      <td>5</td>\n",
       "      <td>0</td>\n",
       "    </tr>\n",
       "    <tr>\n",
       "      <th>4</th>\n",
       "      <td>AFG</td>\n",
       "      <td>Asia</td>\n",
       "      <td>Afghanistan</td>\n",
       "      <td>28/02/2020</td>\n",
       "      <td>5</td>\n",
       "      <td>0</td>\n",
       "    </tr>\n",
       "  </tbody>\n",
       "</table>\n",
       "</div>"
      ],
      "text/plain": [
       "  iso_code continent     location        date  total_cases  new_cases\n",
       "0      AFG      Asia  Afghanistan  24/02/2020            5          5\n",
       "1      AFG      Asia  Afghanistan  25/02/2020            5          0\n",
       "2      AFG      Asia  Afghanistan  26/02/2020            5          0\n",
       "3      AFG      Asia  Afghanistan  27/02/2020            5          0\n",
       "4      AFG      Asia  Afghanistan  28/02/2020            5          0"
      ]
     },
     "execution_count": 11,
     "metadata": {},
     "output_type": "execute_result"
    }
   ],
   "source": [
    "data.head()"
   ]
  },
  {
   "cell_type": "markdown",
   "id": "630bfb8b-f14e-41fa-a171-154f7acbd6a0",
   "metadata": {},
   "source": [
    "### Mean Using np\n",
    "    Numpy provide the function to find mean of data set. Here I have used np function .mean() to find mean of column 'new_cases'. Numpy median function can't handle null values ( mean ignore them ).\n",
    "    Mean help us to find average of a dataset."
   ]
  },
  {
   "cell_type": "code",
   "execution_count": 12,
   "id": "1f992675-35cd-413b-8a14-7e93e18936ad",
   "metadata": {},
   "outputs": [
    {
     "data": {
      "text/plain": [
       "8814.365761430045"
      ]
     },
     "execution_count": 12,
     "metadata": {},
     "output_type": "execute_result"
    }
   ],
   "source": [
    "np_mean = np.mean(data['new_cases'])\n",
    "np_mean"
   ]
  },
  {
   "cell_type": "markdown",
   "id": "44f7391e-09fb-44f0-992c-a399a3753bca",
   "metadata": {},
   "source": [
    "### Mean Using pandas\n",
    "    Pandas also have a function to find mean of data set. Pandas mean() function have ablility to ignore missing or null values"
   ]
  },
  {
   "cell_type": "code",
   "execution_count": 13,
   "id": "9a48de60-3024-4fbb-aaff-d267b2bbb44d",
   "metadata": {},
   "outputs": [
    {
     "data": {
      "text/plain": [
       "8814.365761430045"
      ]
     },
     "execution_count": 13,
     "metadata": {},
     "output_type": "execute_result"
    }
   ],
   "source": [
    "pd_mean = data['new_cases'].mean()\n",
    "pd_mean"
   ]
  },
  {
   "cell_type": "markdown",
   "id": "c9bdf810-9afb-4917-803f-b84d770ca956",
   "metadata": {},
   "source": [
    "### Median Using np\n",
    "    Numpy has a function name '.median()' that is use to find the median of a given dataset. Median basically find the central or middle value of the given set. Numpy median function can't handle null values ( mean ignore them ).\n",
    "    In this code I use .median() Function of numpy to find the median of column 'new_cases' and display it ."
   ]
  },
  {
   "cell_type": "code",
   "execution_count": 14,
   "id": "b2d4b929-64bf-47a3-964c-91e98d5dcb2a",
   "metadata": {},
   "outputs": [
    {
     "data": {
      "text/plain": [
       "261.0"
      ]
     },
     "execution_count": 14,
     "metadata": {},
     "output_type": "execute_result"
    }
   ],
   "source": [
    "np_median = np.median(data['new_cases'])\n",
    "np_median"
   ]
  },
  {
   "cell_type": "markdown",
   "id": "4c44665d-11c9-40f5-9672-14bb10d73bfe",
   "metadata": {},
   "source": [
    "### Median Using Pandas\n",
    "    Pandas Also Provide funciton to find median. The difference between numpy median and pandas median is that numpy is not able to handle missing or null values while Pandas have ability to ignore missing. we can also tell pandas to ignore or not the missing values while it by default ignore them.\n",
    "    In this code I use .median() Function to find the median of column 'new_cases' and display it ."
   ]
  },
  {
   "cell_type": "code",
   "execution_count": 15,
   "id": "b408051e-df13-4121-baa1-6c4000c7af20",
   "metadata": {},
   "outputs": [
    {
     "data": {
      "text/plain": [
       "261.0"
      ]
     },
     "execution_count": 15,
     "metadata": {},
     "output_type": "execute_result"
    }
   ],
   "source": [
    "pd_median = data['new_cases'].median()\n",
    "pd_median"
   ]
  },
  {
   "cell_type": "markdown",
   "id": "62384504-8f14-4377-bfd6-32af490bc055",
   "metadata": {},
   "source": [
    "### Mode usig stats\n",
    "    Numpy and Pandas dosn't have built-in mode function, that why I use scipy for finding mode. Scipy stand for scientific python, it comes up with alot of mathmatic, static and other functions. Here i import scipy aka stats for finding mode of data column 'new_cases'\n",
    "    The mode is the value that occurs most frequently in the dataset"
   ]
  },
  {
   "cell_type": "code",
   "execution_count": 16,
   "id": "463684b3-e4f4-40e3-9f51-dd2a2c82c032",
   "metadata": {},
   "outputs": [],
   "source": [
    "from scipy import stats"
   ]
  },
  {
   "cell_type": "code",
   "execution_count": 17,
   "id": "ad19f6b4-b155-46cc-bebc-37d8b7bde771",
   "metadata": {},
   "outputs": [
    {
     "data": {
      "text/plain": [
       "ModeResult(mode=0, count=805)"
      ]
     },
     "execution_count": 17,
     "metadata": {},
     "output_type": "execute_result"
    }
   ],
   "source": [
    "mode = stats.mode(data['new_cases'])\n",
    "mode"
   ]
  },
  {
   "cell_type": "markdown",
   "id": "5264bd2f-f7e1-47ef-b1e3-8e26c2487579",
   "metadata": {},
   "source": [
    "### Variance of a dataset\n",
    "    Vaiance of datset tell us howw widel \n",
    "spread the dataset i, mean it tell us how far each numbers are in dataset.  Numpy and Pandasboth provide fucntion to find variance of dataset. Here I used numpy .var() function to find variance of column 'new_cases't"
   ]
  },
  {
   "cell_type": "code",
   "execution_count": 18,
   "id": "6589134c-d0a3-4bc8-82cf-8ec4274a5146",
   "metadata": {},
   "outputs": [
    {
     "data": {
      "text/plain": [
       "451321915.92810047"
      ]
     },
     "execution_count": 18,
     "metadata": {},
     "output_type": "execute_result"
    }
   ],
   "source": [
    "np_variance = np.var(data['new_cases'])\n",
    "np_variance"
   ]
  },
  {
   "cell_type": "markdown",
   "id": "93c723e0-db94-4c38-81c9-6ab05ae8b22d",
   "metadata": {},
   "source": [
    "### Variance using Pandas\n",
    "    Now i will use Pandas function .var to find variance of same columns"
   ]
  },
  {
   "cell_type": "code",
   "execution_count": 19,
   "id": "fb3013dc-1412-45ac-900d-40ab71febe17",
   "metadata": {},
   "outputs": [
    {
     "data": {
      "text/plain": [
       "451399502.6422019"
      ]
     },
     "execution_count": 19,
     "metadata": {},
     "output_type": "execute_result"
    }
   ],
   "source": [
    "pd_variance = data['new_cases'].var()\n",
    "pd_variance"
   ]
  },
  {
   "cell_type": "markdown",
   "id": "ce0b7b33-a92b-4986-b308-16f2669ef7d0",
   "metadata": {},
   "source": [
    "### Standard deviation of a dataset\n",
    "    The standard deviation is derived from the variance and is simply the square root of the variance. In other words it tell us average of how far the values are from mean. It can be find my subtracting each number with mean of dataset, applying sqaure on each value, finding avarage and then apply square root of the final value. But in python **Numpy** and **Pandas** both have there own functions to find it.\n",
    "    In this code i will find standard deviation of above dataset using numpy function."
   ]
  },
  {
   "cell_type": "code",
   "execution_count": 20,
   "id": "09a18f6a-ff1d-42b7-9ebb-5deab68399f8",
   "metadata": {},
   "outputs": [
    {
     "data": {
      "text/plain": [
       "21244.33844411495"
      ]
     },
     "execution_count": 20,
     "metadata": {},
     "output_type": "execute_result"
    }
   ],
   "source": [
    "np_std = np.std((data['new_cases']))\n",
    "np_std"
   ]
  },
  {
   "cell_type": "markdown",
   "id": "d7565bc7-f3b9-423f-b7d6-2c580a1789ba",
   "metadata": {},
   "source": [
    "### Standard deviation using Pandas\n",
    "    Now I will use Pandas std function to find standard deviation of dataset"
   ]
  },
  {
   "cell_type": "code",
   "execution_count": 21,
   "id": "d713ce21-45d6-4e19-a7c8-a762ec437f5b",
   "metadata": {},
   "outputs": [
    {
     "data": {
      "text/plain": [
       "21246.16442189512"
      ]
     },
     "execution_count": 21,
     "metadata": {},
     "output_type": "execute_result"
    }
   ],
   "source": [
    "pd_std = data['new_cases'].std()\n",
    "pd_std"
   ]
  },
  {
   "cell_type": "markdown",
   "id": "ce09c569-14ae-459a-b89d-94d383783e50",
   "metadata": {},
   "source": [
    "### Generating the range of a dataset\n",
    "    Ranage of Dataset help his to find the minimum and the maximum value present in the dataset. \n",
    "    In python **Numpy** and **Pandas** both have there own functions to find it.\n",
    "    In this code i will find min and max using numpy function."
   ]
  },
  {
   "cell_type": "code",
   "execution_count": 22,
   "id": "c05d9c8c-accf-4dea-b536-3f6d0960bebd",
   "metadata": {},
   "outputs": [
    {
     "name": "stdout",
     "output_type": "stream",
     "text": [
      "Max Value:287149\n",
      "Min Value:0\n"
     ]
    }
   ],
   "source": [
    "data_max = np.max(data['new_cases'])\n",
    "data_min = np.min(data['new_cases'])\n",
    "print(f\"Max Value:{data_max}\\nMin Value:{data_min}\")"
   ]
  },
  {
   "cell_type": "markdown",
   "id": "5850a0f1-31b1-43b5-8129-75c19011a040",
   "metadata": {},
   "source": [
    "### Generating the range Using Pandas\n",
    "    Now I will find the minimum and maximum values using pandas"
   ]
  },
  {
   "cell_type": "code",
   "execution_count": 23,
   "id": "cca34289-cabc-48ef-a8b3-bcf0a464c099",
   "metadata": {},
   "outputs": [
    {
     "name": "stdout",
     "output_type": "stream",
     "text": [
      "Max Value:287149\n",
      "Min Value:0\n"
     ]
    }
   ],
   "source": [
    "data_max_pd = data['new_cases'].max()\n",
    "data_min_pd = data['new_cases'].min()\n",
    "print(f\"Max Value:{data_max_pd}\\nMin Value:{data_min_pd}\")"
   ]
  },
  {
   "cell_type": "markdown",
   "id": "07ff02a5-f25b-4fba-b06b-9fd3b243f5de",
   "metadata": {},
   "source": [
    "### Percentiles of a dataset\n",
    "    Percentiles in static is a method that can find both center of dataset and separation of it by dividing the dataset into 100 equal number of portions. \n",
    "    In python, numpy provide a method name 'percentiles' to find percentile of the dataset. In the below code, I user pandas to read the dataset and then use numpy method percentile to find percentile of that dataset.\n",
    "    Here I use np percentile method and give it 'new_cases' columns of the dataset and also give the percentile number like 60th to get 60th percintile."
   ]
  },
  {
   "cell_type": "code",
   "execution_count": 24,
   "id": "07960970-dc66-489a-be60-7ea20f576e34",
   "metadata": {},
   "outputs": [
    {
     "data": {
      "text/plain": [
       "591.3999999999996"
      ]
     },
     "execution_count": 24,
     "metadata": {},
     "output_type": "execute_result"
    }
   ],
   "source": [
    "np_percen = np.percentile(data['new_cases'],60)\n",
    "np_percen"
   ]
  },
  {
   "cell_type": "markdown",
   "id": "3a6b2725-544e-4b5b-b292-1d1b3866fc7a",
   "metadata": {},
   "source": [
    "### Quartiles of a dataset\n",
    "    It is just like the percintile, it can also find the spread of dataset and center of it. the only difference between percetile and quartile is that percentile divide dataset into 100 equal portions while quartile divide into only 4 portions. In python, both percentile and quartile are called quantiles.\n",
    "    In python, numpy have a method name 'quantiles' while there is no dedicated method avalible quartile like percentile.\n",
    "    Here I have used Numpy to find the quartile of the dataset. It take two arguments (dataset),(quartile number i.e 0.25 / 0.75 etc)."
   ]
  },
  {
   "cell_type": "code",
   "execution_count": 25,
   "id": "dd0d5a9b-504f-4f84-b6d2-373d663d0b57",
   "metadata": {},
   "outputs": [
    {
     "data": {
      "text/plain": [
       "3666.0"
      ]
     },
     "execution_count": 25,
     "metadata": {},
     "output_type": "execute_result"
    }
   ],
   "source": [
    "np_quartile = np.quantile(data['new_cases'], 0.75)\n",
    "np_quartile"
   ]
  },
  {
   "cell_type": "markdown",
   "id": "a0d3163c-03c7-41b5-ad8a-2b6245b2f7ac",
   "metadata": {},
   "source": [
    "### Inter-Quartile Range (IQR)\n",
    "    Interquartile Range tell us the distance between the first and third quartile, making it easier to find the spread.\n",
    "    In python, numpy and pandas doesn't have any method to calculate IQR, but scipy library have a function 'iqr' for it. it take only one argument which is (dataset)"
   ]
  },
  {
   "cell_type": "code",
   "execution_count": 26,
   "id": "ab59c504-5970-48a9-ba1d-80fb84ddd9f6",
   "metadata": {},
   "outputs": [
    {
     "data": {
      "text/plain": [
       "3642.0"
      ]
     },
     "execution_count": 26,
     "metadata": {},
     "output_type": "execute_result"
    }
   ],
   "source": [
    "data_IQR = stats.iqr(data['new_cases'])\n",
    "data_IQR"
   ]
  },
  {
   "cell_type": "code",
   "execution_count": 27,
   "id": "0be88d5d-f7e8-4e8d-b6d5-7094378c8ce0",
   "metadata": {},
   "outputs": [
    {
     "data": {
      "text/plain": [
       "['Afghanistan', 'Australia', 'Belgium', 'Brazil', 'Finland', 'Nigeria']"
      ]
     },
     "execution_count": 27,
     "metadata": {},
     "output_type": "execute_result"
    }
   ],
   "source": [
    "data ['location'].unique().tolist()"
   ]
  },
  {
   "cell_type": "markdown",
   "id": "aafdbed7-26d6-4083-9b69-64bbae11d2c0",
   "metadata": {},
   "source": [
    "**________________________________________________________________________________________________________________________________________________________________**"
   ]
  },
  {
   "cell_type": "markdown",
   "id": "7d5c8b3b-18e8-4868-a697-5abbc87f269c",
   "metadata": {},
   "source": [
    "# Dataset Insight"
   ]
  },
  {
   "cell_type": "markdown",
   "id": "588bd111-ff1b-4447-bf5b-a48be715ed0e",
   "metadata": {},
   "source": [
    "**____________________________________________________________________________________________________________________________________________________________________________________**"
   ]
  },
  {
   "cell_type": "markdown",
   "id": "9680933a-97c0-4512-898d-a7c28b993e18",
   "metadata": {},
   "source": [
    "    First I will prepare the dataset for insight\n",
    "    In order to do that first i will change date to correct format"
   ]
  },
  {
   "cell_type": "code",
   "execution_count": 28,
   "id": "ce814287-70df-48e5-a1ba-8659ab064806",
   "metadata": {},
   "outputs": [
    {
     "data": {
      "text/plain": [
       "0      2020-02-24\n",
       "1      2020-02-25\n",
       "2      2020-02-26\n",
       "3      2020-02-27\n",
       "4      2020-02-28\n",
       "          ...    \n",
       "5813   2022-10-06\n",
       "5814   2022-10-07\n",
       "5815   2022-10-08\n",
       "5816   2022-10-09\n",
       "5817   2022-10-10\n",
       "Name: date, Length: 5818, dtype: datetime64[ns]"
      ]
     },
     "execution_count": 28,
     "metadata": {},
     "output_type": "execute_result"
    }
   ],
   "source": [
    "data ['date'] = pd.to_datetime(data['date'],dayfirst = True)\n",
    "data ['date']"
   ]
  },
  {
   "cell_type": "markdown",
   "id": "ac4abe18-d4b9-4a26-9e22-921f07304fe2",
   "metadata": {},
   "source": [
    "    Now I will remove null values using dropna method of pandas. we can also fill the null values by fillna method."
   ]
  },
  {
   "cell_type": "code",
   "execution_count": 29,
   "id": "1c318e79-5fcb-4141-b205-da1442fb2817",
   "metadata": {},
   "outputs": [
    {
     "data": {
      "text/html": [
       "<div>\n",
       "<style scoped>\n",
       "    .dataframe tbody tr th:only-of-type {\n",
       "        vertical-align: middle;\n",
       "    }\n",
       "\n",
       "    .dataframe tbody tr th {\n",
       "        vertical-align: top;\n",
       "    }\n",
       "\n",
       "    .dataframe thead th {\n",
       "        text-align: right;\n",
       "    }\n",
       "</style>\n",
       "<table border=\"1\" class=\"dataframe\">\n",
       "  <thead>\n",
       "    <tr style=\"text-align: right;\">\n",
       "      <th></th>\n",
       "      <th>iso_code</th>\n",
       "      <th>continent</th>\n",
       "      <th>location</th>\n",
       "      <th>date</th>\n",
       "      <th>total_cases</th>\n",
       "      <th>new_cases</th>\n",
       "    </tr>\n",
       "  </thead>\n",
       "  <tbody>\n",
       "    <tr>\n",
       "      <th>0</th>\n",
       "      <td>AFG</td>\n",
       "      <td>Asia</td>\n",
       "      <td>Afghanistan</td>\n",
       "      <td>2020-02-24</td>\n",
       "      <td>5</td>\n",
       "      <td>5</td>\n",
       "    </tr>\n",
       "    <tr>\n",
       "      <th>1</th>\n",
       "      <td>AFG</td>\n",
       "      <td>Asia</td>\n",
       "      <td>Afghanistan</td>\n",
       "      <td>2020-02-25</td>\n",
       "      <td>5</td>\n",
       "      <td>0</td>\n",
       "    </tr>\n",
       "    <tr>\n",
       "      <th>2</th>\n",
       "      <td>AFG</td>\n",
       "      <td>Asia</td>\n",
       "      <td>Afghanistan</td>\n",
       "      <td>2020-02-26</td>\n",
       "      <td>5</td>\n",
       "      <td>0</td>\n",
       "    </tr>\n",
       "    <tr>\n",
       "      <th>3</th>\n",
       "      <td>AFG</td>\n",
       "      <td>Asia</td>\n",
       "      <td>Afghanistan</td>\n",
       "      <td>2020-02-27</td>\n",
       "      <td>5</td>\n",
       "      <td>0</td>\n",
       "    </tr>\n",
       "    <tr>\n",
       "      <th>4</th>\n",
       "      <td>AFG</td>\n",
       "      <td>Asia</td>\n",
       "      <td>Afghanistan</td>\n",
       "      <td>2020-02-28</td>\n",
       "      <td>5</td>\n",
       "      <td>0</td>\n",
       "    </tr>\n",
       "    <tr>\n",
       "      <th>...</th>\n",
       "      <td>...</td>\n",
       "      <td>...</td>\n",
       "      <td>...</td>\n",
       "      <td>...</td>\n",
       "      <td>...</td>\n",
       "      <td>...</td>\n",
       "    </tr>\n",
       "    <tr>\n",
       "      <th>5813</th>\n",
       "      <td>NGA</td>\n",
       "      <td>Africa</td>\n",
       "      <td>Nigeria</td>\n",
       "      <td>2022-10-06</td>\n",
       "      <td>265741</td>\n",
       "      <td>236</td>\n",
       "    </tr>\n",
       "    <tr>\n",
       "      <th>5814</th>\n",
       "      <td>NGA</td>\n",
       "      <td>Africa</td>\n",
       "      <td>Nigeria</td>\n",
       "      <td>2022-10-07</td>\n",
       "      <td>265741</td>\n",
       "      <td>0</td>\n",
       "    </tr>\n",
       "    <tr>\n",
       "      <th>5815</th>\n",
       "      <td>NGA</td>\n",
       "      <td>Africa</td>\n",
       "      <td>Nigeria</td>\n",
       "      <td>2022-10-08</td>\n",
       "      <td>265816</td>\n",
       "      <td>75</td>\n",
       "    </tr>\n",
       "    <tr>\n",
       "      <th>5816</th>\n",
       "      <td>NGA</td>\n",
       "      <td>Africa</td>\n",
       "      <td>Nigeria</td>\n",
       "      <td>2022-10-09</td>\n",
       "      <td>265816</td>\n",
       "      <td>0</td>\n",
       "    </tr>\n",
       "    <tr>\n",
       "      <th>5817</th>\n",
       "      <td>NGA</td>\n",
       "      <td>Africa</td>\n",
       "      <td>Nigeria</td>\n",
       "      <td>2022-10-10</td>\n",
       "      <td>265816</td>\n",
       "      <td>0</td>\n",
       "    </tr>\n",
       "  </tbody>\n",
       "</table>\n",
       "<p>5818 rows × 6 columns</p>\n",
       "</div>"
      ],
      "text/plain": [
       "     iso_code continent     location       date  total_cases  new_cases\n",
       "0         AFG      Asia  Afghanistan 2020-02-24            5          5\n",
       "1         AFG      Asia  Afghanistan 2020-02-25            5          0\n",
       "2         AFG      Asia  Afghanistan 2020-02-26            5          0\n",
       "3         AFG      Asia  Afghanistan 2020-02-27            5          0\n",
       "4         AFG      Asia  Afghanistan 2020-02-28            5          0\n",
       "...       ...       ...          ...        ...          ...        ...\n",
       "5813      NGA    Africa      Nigeria 2022-10-06       265741        236\n",
       "5814      NGA    Africa      Nigeria 2022-10-07       265741          0\n",
       "5815      NGA    Africa      Nigeria 2022-10-08       265816         75\n",
       "5816      NGA    Africa      Nigeria 2022-10-09       265816          0\n",
       "5817      NGA    Africa      Nigeria 2022-10-10       265816          0\n",
       "\n",
       "[5818 rows x 6 columns]"
      ]
     },
     "execution_count": 29,
     "metadata": {},
     "output_type": "execute_result"
    }
   ],
   "source": [
    "data.dropna()"
   ]
  },
  {
   "cell_type": "markdown",
   "id": "1a59dec3-f091-408e-a89a-51fdad18bee1",
   "metadata": {},
   "source": [
    "#### Import Matplot\n",
    "    For insight I will use matplot library. Matplot is one of the most popular python library that come-up with alot of built-in funcitons and methods for graph. It have different graph types including Vertical , Horizantal bar, histogram, clusters, plot etc.\n",
    "    Here I have imported matlplotlib.pyplot and give it a short name of plt for easy usage in rest of the code "
   ]
  },
  {
   "cell_type": "code",
   "execution_count": 30,
   "id": "6421fccd-fd03-4e75-b482-9c708c402fd9",
   "metadata": {},
   "outputs": [],
   "source": [
    "import matplotlib.pyplot as plt"
   ]
  },
  {
   "cell_type": "markdown",
   "id": "ab446803",
   "metadata": {},
   "source": [
    "#### Countries wise cases review\n",
    "    This bar graph is reperesenting countries wise comparzion of total cases. This graph help Analysts, researchers, governments to visulize the impact and make decision based on it.\n",
    "    Here I generated a bar graph with the help of python library matplot. Bar graph is a type of graph used in statistic tell help us visulize the difference between two or more values like in below case we need to compare total cases of each countries."
   ]
  },
  {
   "cell_type": "code",
   "execution_count": 31,
   "id": "b64a51c2-33b4-42c4-88b5-9bf3950fb85e",
   "metadata": {},
   "outputs": [
    {
     "data": {
      "image/png": "[encoded data removed]",
      "text/plain": [
       "<Figure size 640x480 with 1 Axes>"
      ]
     },
     "metadata": {},
     "output_type": "display_data"
    }
   ],
   "source": [
    "# top_cases = data.head(100)\n",
    "plt.bar(data['location'],data['total_cases'])\n",
    "plt.xlabel('Total Cases')\n",
    "plt.title('Countries wise Comparzion')\n",
    "plt.show()"
   ]
  },
  {
   "cell_type": "markdown",
   "id": "e924139f",
   "metadata": {},
   "source": [
    "#### Continent wise cases review\n",
    "    This bar graph is reperesenting Continent wise comparzion of total cases. It help in visulizing impact on each continent and making decision for health care, spoting differences etc."
   ]
  },
  {
   "cell_type": "code",
   "execution_count": 32,
   "id": "3c14f1e4-5292-4f8c-98a7-1f564ccfb2c0",
   "metadata": {},
   "outputs": [
    {
     "data": {
      "image/png": "[encoded data removed]",
      "text/plain": [
       "<Figure size 640x480 with 1 Axes>"
      ]
     },
     "metadata": {},
     "output_type": "display_data"
    }
   ],
   "source": [
    "plt.bar(data['continent'],data['total_cases'])\n",
    "plt.ylabel('Total Cases')\n",
    "plt.show()"
   ]
  },
  {
   "cell_type": "markdown",
   "id": "4df98cf6",
   "metadata": {},
   "source": [
    "#### Monthly Cases Comparzion\n",
    "    Now I will compare new cases of each month using the bar graph. This help in visulizing the new cases per month, predict the future outcome, make decision related to health care, vaccination.\n",
    "    In this code, first I created a new column which store only month and year, I did this to calculate the total new cases by each month, this way i could compare total new cases report per month. Including first of 2020 to 10th of 2022.\n",
    "    Next, I group year_month and new cases column and sum the total, this way only the new cases value will get sum based on the month.\n",
    "    next i plot a bar graph with new cases in y axis while month in x axis.\n",
    "    next line will rotate the label of each month by 90 degree, this is due to these labels r long enough to look up like a messed without rotation.\n",
    "    and last i display the graph"
   ]
  },
  {
   "cell_type": "code",
   "execution_count": null,
   "id": "af3fe421",
   "metadata": {},
   "outputs": [
    {
     "data": {
      "image/png": "[encoded data removed]",
      "text/plain": [
       "<Figure size 640x480 with 1 Axes>"
      ]
     },
     "metadata": {},
     "output_type": "display_data"
    }
   ],
   "source": [
    "data['year_month'] = data['date'].dt.to_period('M').astype(str)\n",
    "monthly_new_Cases = data.groupby('year_month')['new_cases'].sum().reset_index()\n",
    "monthly_new_Cases['year_month'] = monthly_new_Cases['year_month'].astype(str)\n",
    "plt.bar(monthly_new_Cases['year_month'], monthly_new_Cases['new_cases'])\n",
    "plt.xticks(rotation=90)\n",
    "plt.show()"
   ]
  },
  {
   "cell_type": "code",
   "execution_count": null,
   "id": "64b6a987",
   "metadata": {},
   "outputs": [],
   "source": []
  }
 ],
 "metadata": {
  "kernelspec": {
   "display_name": "base",
   "language": "python",
   "name": "python3"
  },
  "language_info": {
   "codemirror_mode": {
    "name": "ipython",
    "version": 3
   },
   "file_extension": ".py",
   "mimetype": "text/x-python",
   "name": "python",
   "nbconvert_exporter": "python",
   "pygments_lexer": "ipython3",
   "version": "3.11.7"
  }
 },
 "nbformat": 4,
 "nbformat_minor": 5
}
