{
 "cells": [
  {
   "cell_type": "markdown",
   "id": "371eb0d1",
   "metadata": {},
   "source": [
    "## Initializing the code by importing Libraries\n",
    "      As always we first need to import all the import or those libraries that we need in this code. Bascially libraries are the premade code with alot of functions and methods to make developer job easy, mean they dont need to keep write each code all the time, they can just import it from library. Like for a sum function, if developer need to find sum of some values then he need to write a whole code for sum fucntion and then move on but by using libraries he/she doesn't need to write code for sum function as they already have it, all he/she need to do is write sum() and that operation perform. In other words Lib are made to make developer job easy.\n",
    "\n",
    "In this code I imported two libraries **Numpy** and **Pandas**\n",
    "1. Where Numpy will use to generate array \n",
    "      - Array r basically the type of variables that store more than one values inside then, like a matrix.\n",
    "2. And Pandas will use to access data, manipluate it, perform operations on it like removing, inserting, replacing values etc."
   ]
  },
  {
   "cell_type": "code",
   "execution_count": 3,
   "id": "7ace77da",
   "metadata": {},
   "outputs": [],
   "source": [
    "import numpy as np\n",
    "import pandas as pd"
   ]
  },
  {
   "cell_type": "markdown",
   "id": "a672ccca",
   "metadata": {},
   "source": [
    "#### Reading Data\n",
    "      Here I have use pandas by refering to it short name, which is pd, to read the data inside csv file name 'marketing_campaign.csv' and store it inside a variable name data."
   ]
  },
  {
   "cell_type": "code",
   "execution_count": 4,
   "id": "604592e3",
   "metadata": {},
   "outputs": [],
   "source": [
    "data = pd.read_csv('dataset/marketing_campaign.csv')"
   ]
  },
  {
   "cell_type": "markdown",
   "id": "4e322149",
   "metadata": {},
   "source": [
    "#### Inspecting readed data\n",
    "      Here I use .head() function of pandas which will display first 5 rows of dataset. I did this to inspect whether the above read code work well or not."
   ]
  },
  {
   "cell_type": "code",
   "execution_count": 5,
   "id": "6bfada0c",
   "metadata": {},
   "outputs": [
    {
     "data": {
      "text/html": [
       "<div>\n",
       "<style scoped>\n",
       "    .dataframe tbody tr th:only-of-type {\n",
       "        vertical-align: middle;\n",
       "    }\n",
       "\n",
       "    .dataframe tbody tr th {\n",
       "        vertical-align: top;\n",
       "    }\n",
       "\n",
       "    .dataframe thead th {\n",
       "        text-align: right;\n",
       "    }\n",
       "</style>\n",
       "<table border=\"1\" class=\"dataframe\">\n",
       "  <thead>\n",
       "    <tr style=\"text-align: right;\">\n",
       "      <th></th>\n",
       "      <th>Unnamed: 0</th>\n",
       "      <th>ID</th>\n",
       "      <th>Year_Birth</th>\n",
       "      <th>Education</th>\n",
       "      <th>Marital_Status</th>\n",
       "      <th>Income</th>\n",
       "      <th>Kidhome</th>\n",
       "      <th>Teenhome</th>\n",
       "      <th>Dt_Customer</th>\n",
       "      <th>Recency</th>\n",
       "      <th>...</th>\n",
       "      <th>NumWebVisitsMonth</th>\n",
       "      <th>AcceptedCmp3</th>\n",
       "      <th>AcceptedCmp4</th>\n",
       "      <th>AcceptedCmp5</th>\n",
       "      <th>AcceptedCmp1</th>\n",
       "      <th>AcceptedCmp2</th>\n",
       "      <th>Complain</th>\n",
       "      <th>Z_CostContact</th>\n",
       "      <th>Z_Revenue</th>\n",
       "      <th>Response</th>\n",
       "    </tr>\n",
       "  </thead>\n",
       "  <tbody>\n",
       "    <tr>\n",
       "      <th>0</th>\n",
       "      <td>0</td>\n",
       "      <td>5524</td>\n",
       "      <td>1957</td>\n",
       "      <td>Graduation</td>\n",
       "      <td>Single</td>\n",
       "      <td>58138.0</td>\n",
       "      <td>0</td>\n",
       "      <td>0</td>\n",
       "      <td>04-09-2012</td>\n",
       "      <td>58</td>\n",
       "      <td>...</td>\n",
       "      <td>7</td>\n",
       "      <td>0</td>\n",
       "      <td>0</td>\n",
       "      <td>0</td>\n",
       "      <td>0</td>\n",
       "      <td>0</td>\n",
       "      <td>0</td>\n",
       "      <td>3</td>\n",
       "      <td>11</td>\n",
       "      <td>1</td>\n",
       "    </tr>\n",
       "    <tr>\n",
       "      <th>1</th>\n",
       "      <td>1</td>\n",
       "      <td>2174</td>\n",
       "      <td>1954</td>\n",
       "      <td>Graduation</td>\n",
       "      <td>Single</td>\n",
       "      <td>46344.0</td>\n",
       "      <td>1</td>\n",
       "      <td>1</td>\n",
       "      <td>08-03-2014</td>\n",
       "      <td>38</td>\n",
       "      <td>...</td>\n",
       "      <td>5</td>\n",
       "      <td>0</td>\n",
       "      <td>0</td>\n",
       "      <td>0</td>\n",
       "      <td>0</td>\n",
       "      <td>0</td>\n",
       "      <td>0</td>\n",
       "      <td>3</td>\n",
       "      <td>11</td>\n",
       "      <td>0</td>\n",
       "    </tr>\n",
       "    <tr>\n",
       "      <th>2</th>\n",
       "      <td>2</td>\n",
       "      <td>4141</td>\n",
       "      <td>1965</td>\n",
       "      <td>Graduation</td>\n",
       "      <td>Together</td>\n",
       "      <td>71613.0</td>\n",
       "      <td>0</td>\n",
       "      <td>0</td>\n",
       "      <td>21-08-2013</td>\n",
       "      <td>26</td>\n",
       "      <td>...</td>\n",
       "      <td>4</td>\n",
       "      <td>0</td>\n",
       "      <td>0</td>\n",
       "      <td>0</td>\n",
       "      <td>0</td>\n",
       "      <td>0</td>\n",
       "      <td>0</td>\n",
       "      <td>3</td>\n",
       "      <td>11</td>\n",
       "      <td>0</td>\n",
       "    </tr>\n",
       "    <tr>\n",
       "      <th>3</th>\n",
       "      <td>3</td>\n",
       "      <td>6182</td>\n",
       "      <td>1984</td>\n",
       "      <td>Graduation</td>\n",
       "      <td>Together</td>\n",
       "      <td>26646.0</td>\n",
       "      <td>1</td>\n",
       "      <td>0</td>\n",
       "      <td>10-02-2014</td>\n",
       "      <td>26</td>\n",
       "      <td>...</td>\n",
       "      <td>6</td>\n",
       "      <td>0</td>\n",
       "      <td>0</td>\n",
       "      <td>0</td>\n",
       "      <td>0</td>\n",
       "      <td>0</td>\n",
       "      <td>0</td>\n",
       "      <td>3</td>\n",
       "      <td>11</td>\n",
       "      <td>0</td>\n",
       "    </tr>\n",
       "    <tr>\n",
       "      <th>4</th>\n",
       "      <td>4</td>\n",
       "      <td>5324</td>\n",
       "      <td>1981</td>\n",
       "      <td>PhD</td>\n",
       "      <td>Married</td>\n",
       "      <td>58293.0</td>\n",
       "      <td>1</td>\n",
       "      <td>0</td>\n",
       "      <td>19-01-2014</td>\n",
       "      <td>94</td>\n",
       "      <td>...</td>\n",
       "      <td>5</td>\n",
       "      <td>0</td>\n",
       "      <td>0</td>\n",
       "      <td>0</td>\n",
       "      <td>0</td>\n",
       "      <td>0</td>\n",
       "      <td>0</td>\n",
       "      <td>3</td>\n",
       "      <td>11</td>\n",
       "      <td>0</td>\n",
       "    </tr>\n",
       "  </tbody>\n",
       "</table>\n",
       "<p>5 rows × 30 columns</p>\n",
       "</div>"
      ],
      "text/plain": [
       "   Unnamed: 0    ID  Year_Birth   Education Marital_Status   Income  Kidhome  \\\n",
       "0           0  5524        1957  Graduation         Single  58138.0        0   \n",
       "1           1  2174        1954  Graduation         Single  46344.0        1   \n",
       "2           2  4141        1965  Graduation       Together  71613.0        0   \n",
       "3           3  6182        1984  Graduation       Together  26646.0        1   \n",
       "4           4  5324        1981         PhD        Married  58293.0        1   \n",
       "\n",
       "   Teenhome Dt_Customer  Recency  ...  NumWebVisitsMonth  AcceptedCmp3  \\\n",
       "0         0  04-09-2012       58  ...                  7             0   \n",
       "1         1  08-03-2014       38  ...                  5             0   \n",
       "2         0  21-08-2013       26  ...                  4             0   \n",
       "3         0  10-02-2014       26  ...                  6             0   \n",
       "4         0  19-01-2014       94  ...                  5             0   \n",
       "\n",
       "   AcceptedCmp4  AcceptedCmp5  AcceptedCmp1  AcceptedCmp2  Complain  \\\n",
       "0             0             0             0             0         0   \n",
       "1             0             0             0             0         0   \n",
       "2             0             0             0             0         0   \n",
       "3             0             0             0             0         0   \n",
       "4             0             0             0             0         0   \n",
       "\n",
       "   Z_CostContact  Z_Revenue  Response  \n",
       "0              3         11         1  \n",
       "1              3         11         0  \n",
       "2              3         11         0  \n",
       "3              3         11         0  \n",
       "4              3         11         0  \n",
       "\n",
       "[5 rows x 30 columns]"
      ]
     },
     "execution_count": 5,
     "metadata": {},
     "output_type": "execute_result"
    }
   ],
   "source": [
    "data.head()"
   ]
  },
  {
   "cell_type": "markdown",
   "id": "5435f205",
   "metadata": {},
   "source": [
    "#### Filtering only required Columns\n",
    "      Here I filtered-out unnessary columns from the dataset and leave only required one. This let us lower the amount of total dataset and speedup the operation process, as u can see in above dataset there r around 30 columns and perfoming operation on this numbers of dataset will required alot of computation resources, and by filtering only required columns we reduce the amount of dataset, making it easier for lower systems to work with that."
   ]
  },
  {
   "cell_type": "code",
   "execution_count": 8,
   "id": "40b9e3c9",
   "metadata": {},
   "outputs": [
    {
     "data": {
      "text/html": [
       "<div>\n",
       "<style scoped>\n",
       "    .dataframe tbody tr th:only-of-type {\n",
       "        vertical-align: middle;\n",
       "    }\n",
       "\n",
       "    .dataframe tbody tr th {\n",
       "        vertical-align: top;\n",
       "    }\n",
       "\n",
       "    .dataframe thead th {\n",
       "        text-align: right;\n",
       "    }\n",
       "</style>\n",
       "<table border=\"1\" class=\"dataframe\">\n",
       "  <thead>\n",
       "    <tr style=\"text-align: right;\">\n",
       "      <th></th>\n",
       "      <th>ID</th>\n",
       "      <th>Year_Birth</th>\n",
       "      <th>Education</th>\n",
       "      <th>Marital_Status</th>\n",
       "      <th>Income</th>\n",
       "      <th>Kidhome</th>\n",
       "      <th>Teenhome</th>\n",
       "      <th>Dt_Customer</th>\n",
       "      <th>Recency</th>\n",
       "      <th>NumStorePurchases</th>\n",
       "      <th>NumWebVisitsMonth</th>\n",
       "    </tr>\n",
       "  </thead>\n",
       "  <tbody>\n",
       "    <tr>\n",
       "      <th>0</th>\n",
       "      <td>5524</td>\n",
       "      <td>1957</td>\n",
       "      <td>Graduation</td>\n",
       "      <td>Single</td>\n",
       "      <td>58138.0</td>\n",
       "      <td>0</td>\n",
       "      <td>0</td>\n",
       "      <td>04-09-2012</td>\n",
       "      <td>58</td>\n",
       "      <td>4</td>\n",
       "      <td>7</td>\n",
       "    </tr>\n",
       "    <tr>\n",
       "      <th>1</th>\n",
       "      <td>2174</td>\n",
       "      <td>1954</td>\n",
       "      <td>Graduation</td>\n",
       "      <td>Single</td>\n",
       "      <td>46344.0</td>\n",
       "      <td>1</td>\n",
       "      <td>1</td>\n",
       "      <td>08-03-2014</td>\n",
       "      <td>38</td>\n",
       "      <td>2</td>\n",
       "      <td>5</td>\n",
       "    </tr>\n",
       "    <tr>\n",
       "      <th>2</th>\n",
       "      <td>4141</td>\n",
       "      <td>1965</td>\n",
       "      <td>Graduation</td>\n",
       "      <td>Together</td>\n",
       "      <td>71613.0</td>\n",
       "      <td>0</td>\n",
       "      <td>0</td>\n",
       "      <td>21-08-2013</td>\n",
       "      <td>26</td>\n",
       "      <td>10</td>\n",
       "      <td>4</td>\n",
       "    </tr>\n",
       "    <tr>\n",
       "      <th>3</th>\n",
       "      <td>6182</td>\n",
       "      <td>1984</td>\n",
       "      <td>Graduation</td>\n",
       "      <td>Together</td>\n",
       "      <td>26646.0</td>\n",
       "      <td>1</td>\n",
       "      <td>0</td>\n",
       "      <td>10-02-2014</td>\n",
       "      <td>26</td>\n",
       "      <td>4</td>\n",
       "      <td>6</td>\n",
       "    </tr>\n",
       "    <tr>\n",
       "      <th>4</th>\n",
       "      <td>5324</td>\n",
       "      <td>1981</td>\n",
       "      <td>PhD</td>\n",
       "      <td>Married</td>\n",
       "      <td>58293.0</td>\n",
       "      <td>1</td>\n",
       "      <td>0</td>\n",
       "      <td>19-01-2014</td>\n",
       "      <td>94</td>\n",
       "      <td>6</td>\n",
       "      <td>5</td>\n",
       "    </tr>\n",
       "  </tbody>\n",
       "</table>\n",
       "</div>"
      ],
      "text/plain": [
       "     ID  Year_Birth   Education Marital_Status   Income  Kidhome  Teenhome  \\\n",
       "0  5524        1957  Graduation         Single  58138.0        0         0   \n",
       "1  2174        1954  Graduation         Single  46344.0        1         1   \n",
       "2  4141        1965  Graduation       Together  71613.0        0         0   \n",
       "3  6182        1984  Graduation       Together  26646.0        1         0   \n",
       "4  5324        1981         PhD        Married  58293.0        1         0   \n",
       "\n",
       "  Dt_Customer  Recency  NumStorePurchases  NumWebVisitsMonth  \n",
       "0  04-09-2012       58                  4                  7  \n",
       "1  08-03-2014       38                  2                  5  \n",
       "2  21-08-2013       26                 10                  4  \n",
       "3  10-02-2014       26                  4                  6  \n",
       "4  19-01-2014       94                  6                  5  "
      ]
     },
     "execution_count": 8,
     "metadata": {},
     "output_type": "execute_result"
    }
   ],
   "source": [
    "data = data[['ID', 'Year_Birth', 'Education', 'Marital_Status', 'Income', 'Kidhome', 'Teenhome', 'Dt_Customer', 'Recency','NumStorePurchases', 'NumWebVisitsMonth']]\n",
    "data.head()"
   ]
  },
  {
   "cell_type": "markdown",
   "id": "8dfbd425",
   "metadata": {},
   "source": [
    "#### Shape\n",
    "      This line of code will tell us the numbers of rows and columns. This help us to know amount of dataset we working with.\n"
   ]
  },
  {
   "cell_type": "code",
   "execution_count": 10,
   "id": "c80f8e2e",
   "metadata": {},
   "outputs": [
    {
     "data": {
      "text/plain": [
       "(2240, 11)"
      ]
     },
     "execution_count": 10,
     "metadata": {},
     "output_type": "execute_result"
    }
   ],
   "source": [
    "data.shape"
   ]
  },
  {
   "cell_type": "markdown",
   "id": "d29a431a",
   "metadata": {},
   "source": [
    "#### Grouping and finding Average\n",
    "      Now this line will group all the values of columns NumStorePurchases based on the row value Kidhome and then find the average of them. This is done by pandas where it done by inspecting all the row data of one Kidhome value and then finding the average of NumStorePurchases column of all these rows. Like in our case there only 3 type of values in Kidhome which r 0,1,2, pandas will first inspect all the row with value 0 and calculate the mean (average) of all the NumStorePurchases column value based on kidhome value 0 and then move to next kidhome value which is 1 and then 2.\n"
   ]
  },
  {
   "cell_type": "code",
   "execution_count": 13,
   "id": "9d68807f",
   "metadata": {},
   "outputs": [
    {
     "data": {
      "text/plain": [
       "Kidhome\n",
       "0    7.217324\n",
       "1    3.863181\n",
       "2    3.437500\n",
       "Name: NumStorePurchases, dtype: float64"
      ]
     },
     "execution_count": 13,
     "metadata": {},
     "output_type": "execute_result"
    }
   ],
   "source": [
    "data.groupby('Kidhome')['NumStorePurchases'].mean()"
   ]
  },
  {
   "cell_type": "markdown",
   "id": "6fc1da05",
   "metadata": {},
   "source": [
    "#### Replace the values in Teenhomes\n",
    "      Here I converted numberic values of column 'Teenhome' to string (alphabatic value), this is done for better understanding of wheather teen present or not. This conversion is done in following way:\n",
    "- 0 : 'has no teen'\n",
    "- 1 & Greater than 1 : ,'has teen'\n",
    "      Where 0 mean there is no teen while 1 or greater than 1 mean there r teens \n",
    "      After converting them, I store then in a new column inside the dataset and name it 'Teenhome_replaced'"
   ]
  },
  {
   "cell_type": "code",
   "execution_count": null,
   "id": "3ca61151",
   "metadata": {},
   "outputs": [],
   "source": [
    "data['Teenhome_replaced'] = data['Teenhome'].replace([0,1,2],['has no teen','has teen','has teen'])"
   ]
  },
  {
   "cell_type": "markdown",
   "id": "2c8119c3",
   "metadata": {},
   "source": [
    "#### Inspecting changes\n",
    "      As mention above about .head() method here I used it for same purpose which is to inpect the changes"
   ]
  },
  {
   "cell_type": "code",
   "execution_count": 15,
   "id": "3c36c14d",
   "metadata": {},
   "outputs": [
    {
     "data": {
      "text/html": [
       "<div>\n",
       "<style scoped>\n",
       "    .dataframe tbody tr th:only-of-type {\n",
       "        vertical-align: middle;\n",
       "    }\n",
       "\n",
       "    .dataframe tbody tr th {\n",
       "        vertical-align: top;\n",
       "    }\n",
       "\n",
       "    .dataframe thead th {\n",
       "        text-align: right;\n",
       "    }\n",
       "</style>\n",
       "<table border=\"1\" class=\"dataframe\">\n",
       "  <thead>\n",
       "    <tr style=\"text-align: right;\">\n",
       "      <th></th>\n",
       "      <th>ID</th>\n",
       "      <th>Year_Birth</th>\n",
       "      <th>Education</th>\n",
       "      <th>Marital_Status</th>\n",
       "      <th>Income</th>\n",
       "      <th>Kidhome</th>\n",
       "      <th>Teenhome</th>\n",
       "      <th>Dt_Customer</th>\n",
       "      <th>Recency</th>\n",
       "      <th>NumStorePurchases</th>\n",
       "      <th>NumWebVisitsMonth</th>\n",
       "      <th>Teenhome_replaced</th>\n",
       "    </tr>\n",
       "  </thead>\n",
       "  <tbody>\n",
       "    <tr>\n",
       "      <th>0</th>\n",
       "      <td>5524</td>\n",
       "      <td>1957</td>\n",
       "      <td>Graduation</td>\n",
       "      <td>Single</td>\n",
       "      <td>58138.0</td>\n",
       "      <td>0</td>\n",
       "      <td>0</td>\n",
       "      <td>04-09-2012</td>\n",
       "      <td>58</td>\n",
       "      <td>4</td>\n",
       "      <td>7</td>\n",
       "      <td>has no teen</td>\n",
       "    </tr>\n",
       "    <tr>\n",
       "      <th>1</th>\n",
       "      <td>2174</td>\n",
       "      <td>1954</td>\n",
       "      <td>Graduation</td>\n",
       "      <td>Single</td>\n",
       "      <td>46344.0</td>\n",
       "      <td>1</td>\n",
       "      <td>1</td>\n",
       "      <td>08-03-2014</td>\n",
       "      <td>38</td>\n",
       "      <td>2</td>\n",
       "      <td>5</td>\n",
       "      <td>has teen</td>\n",
       "    </tr>\n",
       "    <tr>\n",
       "      <th>2</th>\n",
       "      <td>4141</td>\n",
       "      <td>1965</td>\n",
       "      <td>Graduation</td>\n",
       "      <td>Together</td>\n",
       "      <td>71613.0</td>\n",
       "      <td>0</td>\n",
       "      <td>0</td>\n",
       "      <td>21-08-2013</td>\n",
       "      <td>26</td>\n",
       "      <td>10</td>\n",
       "      <td>4</td>\n",
       "      <td>has no teen</td>\n",
       "    </tr>\n",
       "    <tr>\n",
       "      <th>3</th>\n",
       "      <td>6182</td>\n",
       "      <td>1984</td>\n",
       "      <td>Graduation</td>\n",
       "      <td>Together</td>\n",
       "      <td>26646.0</td>\n",
       "      <td>1</td>\n",
       "      <td>0</td>\n",
       "      <td>10-02-2014</td>\n",
       "      <td>26</td>\n",
       "      <td>4</td>\n",
       "      <td>6</td>\n",
       "      <td>has no teen</td>\n",
       "    </tr>\n",
       "    <tr>\n",
       "      <th>4</th>\n",
       "      <td>5324</td>\n",
       "      <td>1981</td>\n",
       "      <td>PhD</td>\n",
       "      <td>Married</td>\n",
       "      <td>58293.0</td>\n",
       "      <td>1</td>\n",
       "      <td>0</td>\n",
       "      <td>19-01-2014</td>\n",
       "      <td>94</td>\n",
       "      <td>6</td>\n",
       "      <td>5</td>\n",
       "      <td>has no teen</td>\n",
       "    </tr>\n",
       "  </tbody>\n",
       "</table>\n",
       "</div>"
      ],
      "text/plain": [
       "     ID  Year_Birth   Education Marital_Status   Income  Kidhome  Teenhome  \\\n",
       "0  5524        1957  Graduation         Single  58138.0        0         0   \n",
       "1  2174        1954  Graduation         Single  46344.0        1         1   \n",
       "2  4141        1965  Graduation       Together  71613.0        0         0   \n",
       "3  6182        1984  Graduation       Together  26646.0        1         0   \n",
       "4  5324        1981         PhD        Married  58293.0        1         0   \n",
       "\n",
       "  Dt_Customer  Recency  NumStorePurchases  NumWebVisitsMonth Teenhome_replaced  \n",
       "0  04-09-2012       58                  4                  7       has no teen  \n",
       "1  08-03-2014       38                  2                  5          has teen  \n",
       "2  21-08-2013       26                 10                  4       has no teen  \n",
       "3  10-02-2014       26                  4                  6       has no teen  \n",
       "4  19-01-2014       94                  6                  5       has no teen  "
      ]
     },
     "execution_count": 15,
     "metadata": {},
     "output_type": "execute_result"
    }
   ],
   "source": [
    "data.head()"
   ]
  },
  {
   "cell_type": "markdown",
   "id": "7c08f070",
   "metadata": {},
   "source": [
    "#### Finding and Droping Missing Values\n",
    "      Now I will find and drop the missing values from the dataset. I will use pandas library method .isnull() to find number of missing values and then use .dropna() method to drop them.\n",
    "\n",
    "      The Result of this code indicate that only the income column have missing values and it 24 in quantity."
   ]
  },
  {
   "cell_type": "code",
   "execution_count": 16,
   "id": "b78c79fc",
   "metadata": {},
   "outputs": [
    {
     "data": {
      "text/plain": [
       "ID                    0\n",
       "Year_Birth            0\n",
       "Education             0\n",
       "Marital_Status        0\n",
       "Income               24\n",
       "Kidhome               0\n",
       "Teenhome              0\n",
       "Dt_Customer           0\n",
       "Recency               0\n",
       "NumStorePurchases     0\n",
       "NumWebVisitsMonth     0\n",
       "Teenhome_replaced     0\n",
       "dtype: int64"
      ]
     },
     "execution_count": 16,
     "metadata": {},
     "output_type": "execute_result"
    }
   ],
   "source": [
    "data.isnull().sum()"
   ]
  },
  {
   "cell_type": "markdown",
   "id": "40ddea58",
   "metadata": {},
   "source": [
    "#### Dropping Missing Values\n",
    "      This line of code will drop all the missing values from dataset and store it inside another variable name 'data_withoutNa' mean data with no null value. I did this to remove the null values without altering the orignal dataset.\n",
    "      I use .dropna() method of pandas to drop the missing values and tell pandas to drop any missing value by this line (how = 'any')."
   ]
  },
  {
   "cell_type": "code",
   "execution_count": 17,
   "id": "3f6d2b50",
   "metadata": {},
   "outputs": [],
   "source": [
    "data_withoutNa = data.dropna(how = 'any')"
   ]
  },
  {
   "cell_type": "markdown",
   "id": "35e94e34",
   "metadata": {},
   "source": [
    "#### Inspecting Changes\n",
    "      After dropping missing I again run the same code as I did to check the missing values in orignal dataset but this time I did this with new variable that store the orignal dataset with null values. I did this to check wheather the drop command work as expected or not.\n",
    "      The result of this code show that the command worked and there is no missing value now in copied dataset."
   ]
  },
  {
   "cell_type": "code",
   "execution_count": 18,
   "id": "b83b24f7",
   "metadata": {},
   "outputs": [
    {
     "data": {
      "text/plain": [
       "ID                   0\n",
       "Year_Birth           0\n",
       "Education            0\n",
       "Marital_Status       0\n",
       "Income               0\n",
       "Kidhome              0\n",
       "Teenhome             0\n",
       "Dt_Customer          0\n",
       "Recency              0\n",
       "NumStorePurchases    0\n",
       "NumWebVisitsMonth    0\n",
       "Teenhome_replaced    0\n",
       "dtype: int64"
      ]
     },
     "execution_count": 18,
     "metadata": {},
     "output_type": "execute_result"
    }
   ],
   "source": [
    "data_withoutNa.isnull().sum()"
   ]
  },
  {
   "cell_type": "markdown",
   "id": "f02e2259",
   "metadata": {},
   "source": [
    "#### Appending two Different Datasets\n",
    "      Now I will demonstrate appending (merging) of two dataset into one. For this purpose I will python library pandas and it function .concat() to merge them.\n",
    "      First I imported two new datasets."
   ]
  },
  {
   "cell_type": "code",
   "execution_count": 19,
   "id": "12d2fa01",
   "metadata": {},
   "outputs": [],
   "source": [
    "sampleDataOne = pd.read_csv('dataset/marketing_campaign_append1.csv')\n",
    "sampleDataTwo = pd.read_csv('dataset/marketing_campaign_append2.csv')"
   ]
  },
  {
   "cell_type": "markdown",
   "id": "8fab72dd",
   "metadata": {},
   "source": [
    "#### Inspect Data\n",
    "      This line of code will tell us how many rows and columns are there in where first value show numbers of row while second one show numbers of columns"
   ]
  },
  {
   "cell_type": "code",
   "execution_count": 20,
   "id": "182b6178",
   "metadata": {},
   "outputs": [
    {
     "data": {
      "text/plain": [
       "(500, 29)"
      ]
     },
     "execution_count": 20,
     "metadata": {},
     "output_type": "execute_result"
    }
   ],
   "source": [
    "sampleDataOne.shape"
   ]
  },
  {
   "cell_type": "code",
   "execution_count": 27,
   "id": "9e0ce5c7",
   "metadata": {},
   "outputs": [
    {
     "data": {
      "text/plain": [
       "(500, 29)"
      ]
     },
     "execution_count": 27,
     "metadata": {},
     "output_type": "execute_result"
    }
   ],
   "source": [
    "sampleDataTwo.shape"
   ]
  },
  {
   "cell_type": "markdown",
   "id": "e02e3660",
   "metadata": {},
   "source": [
    "#### Appending Data\n",
    "      As I have already imported both datasets and store them in there respected variables, now I will append them and store them inside another variable name 'appendedData'. I will use pandas method concat by refereing to it short name 'pd' and give both sample data variables as argument ( values)."
   ]
  },
  {
   "cell_type": "code",
   "execution_count": 23,
   "id": "d8e89d02",
   "metadata": {},
   "outputs": [],
   "source": [
    "appendedData = pd.concat( [sampleDataOne, sampleDataTwo])"
   ]
  },
  {
   "cell_type": "markdown",
   "id": "d158c03f",
   "metadata": {},
   "source": [
    "#### Inspecting Changes\n",
    "      This line of code demonstrate the changes being made and display number of rows and columns.\n",
    "      As u see above that number of rows in each sample datasets r 500 and after appending them it become 1000, this show that the above command was successful."
   ]
  },
  {
   "cell_type": "code",
   "execution_count": 24,
   "id": "bdc68937",
   "metadata": {},
   "outputs": [
    {
     "data": {
      "text/plain": [
       "(1000, 29)"
      ]
     },
     "execution_count": 24,
     "metadata": {},
     "output_type": "execute_result"
    }
   ],
   "source": [
    "appendedData.shape"
   ]
  }
 ],
 "metadata": {
  "kernelspec": {
   "display_name": "base",
   "language": "python",
   "name": "python3"
  },
  "language_info": {
   "codemirror_mode": {
    "name": "ipython",
    "version": 3
   },
   "file_extension": ".py",
   "mimetype": "text/x-python",
   "name": "python",
   "nbconvert_exporter": "python",
   "pygments_lexer": "ipython3",
   "version": "3.11.7"
  }
 },
 "nbformat": 4,
 "nbformat_minor": 5
}
